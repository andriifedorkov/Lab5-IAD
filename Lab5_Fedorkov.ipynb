{
 "cells": [
  {
   "cell_type": "markdown",
   "id": "df2726d7",
   "metadata": {},
   "source": [
    "## Лабораторна робота 5\n",
    "\n",
    "## Норвегія\n",
    "\n",
    "[**Норвегія**](https://uk.wikipedia.org/wiki/Норвегія) - офіційна назва — Королі́вство Норве́гія (норв. Kongeriket Norge) — північноєвропейська держава на Скандинавському півострові, загальною площею 385,207 тис. км². Окрім материкової частини, Норвегії належить арктичний архіпелаг Шпіцберген та острів Ян-Маєн на межі Гренландського й Норвезького морів, острів Буве в Південній Атлантиці.Столиця і найбільше місто - *Осло*. Офіційна мова - <div style=\"color:red\">норвезька</div>.\n",
    "| Норвегія | Norwey |\n",
    "|-----------|-----------|\n",
    "| Популяція | 5 488 984 |\n",
    "| Форма правління  |конституційна монархія|\n",
    "\n"
   ]
  },
  {
   "cell_type": "markdown",
   "id": "3e7061cc",
   "metadata": {},
   "source": []
  },
  {
   "cell_type": "code",
   "execution_count": null,
   "id": "9947f593",
   "metadata": {},
   "outputs": [],
   "source": []
  },
  {
   "cell_type": "code",
   "execution_count": 1,
   "id": "3a513da5",
   "metadata": {},
   "outputs": [
    {
     "name": "stdout",
     "output_type": "stream",
     "text": [
      "Введіть число N: 2\n",
      "Число 2 можна представити як суму двох квадратів натуральних чисел.\n"
     ]
    }
   ],
   "source": [
    "import math\n",
    "\n",
    "def is_sum_of_squares(N):\n",
    "    for a in range(1, int(math.sqrt(N)) + 1):\n",
    "        b_squared = N - a * a\n",
    "        b = int(math.sqrt(b_squared))\n",
    "        if b * b == b_squared:\n",
    "            return True\n",
    "    return False\n",
    "\n",
    "N = int(input(\"Введіть число N: \"))\n",
    "\n",
    "if is_sum_of_squares(N):\n",
    "    print(\"Число\", N, \"можна представити як суму двох квадратів натуральних чисел.\")\n",
    "else:\n",
    "    print(\"Число\", N, \"не можна представити як суму двох квадратів натуральних чисел.\")"
   ]
  },
  {
   "cell_type": "code",
   "execution_count": null,
   "id": "47d26937",
   "metadata": {},
   "outputs": [],
   "source": []
  }
 ],
 "metadata": {
  "kernelspec": {
   "display_name": "Python 3 (ipykernel)",
   "language": "python",
   "name": "python3"
  },
  "language_info": {
   "codemirror_mode": {
    "name": "ipython",
    "version": 3
   },
   "file_extension": ".py",
   "mimetype": "text/x-python",
   "name": "python",
   "nbconvert_exporter": "python",
   "pygments_lexer": "ipython3",
   "version": "3.10.11"
  }
 },
 "nbformat": 4,
 "nbformat_minor": 5
}
